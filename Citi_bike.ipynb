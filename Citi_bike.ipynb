{
 "cells": [
  {
   "cell_type": "code",
   "execution_count": 423,
   "metadata": {},
   "outputs": [],
   "source": [
    "import numpy as np\n",
    "import pandas as pd\n",
    "import seaborn as sns"
   ]
  },
  {
   "cell_type": "code",
   "execution_count": 424,
   "metadata": {},
   "outputs": [
    {
     "data": {
      "text/plain": [
       "(577703, 15)"
      ]
     },
     "execution_count": 424,
     "metadata": {},
     "output_type": "execute_result"
    }
   ],
   "source": [
    "citi_data = pd.read_csv('citibike-tripdata.csv')\n",
    "citi_data.shape"
   ]
  },
  {
   "cell_type": "code",
   "execution_count": 425,
   "metadata": {},
   "outputs": [],
   "source": [
    "#drop 'birth year' and 'gender' columns, as they will not be used for these questions\n",
    "citi_data = citi_data.drop(columns=['birth year', 'gender'], inplace=True)"
   ]
  },
  {
   "cell_type": "markdown",
   "metadata": {},
   "source": [
    "## Question 1: how should bikes differ between customers and subscribers?\n",
    "**Method**:\n",
    "- use trip duration as metric to suggest changes in future bike orders\n",
    "- According to their website, Citibike has a 45-minute time limit before additional fees are applied. I dropped rows where trip duration was greater than 2x this limit (1.5 hrs)\n",
    "\n",
    "**Findings**:\n",
    "- After cleaning the data and eliminating potential outliers, we find the average trip time for customers is 20.8 minutes, while the average trip time for subscribers is 14.4 minutes \n",
    "\n",
    "**Bike Order Suggestion**\n",
    "- Due to the slightly longer trip duration for customers when compared to subscribers, I recommend that Citibike invests in bikes with more comfortable seating for casual riders."
   ]
  },
  {
   "cell_type": "code",
   "execution_count": null,
   "metadata": {},
   "outputs": [],
   "source": [
    "#confirm there are no NaN in usertype column\n",
    "citi_data[citi_data.usertype.isna()] "
   ]
  },
  {
   "cell_type": "code",
   "execution_count": 426,
   "metadata": {},
   "outputs": [
    {
     "data": {
      "text/html": [
       "<div>\n",
       "<style scoped>\n",
       "    .dataframe tbody tr th:only-of-type {\n",
       "        vertical-align: middle;\n",
       "    }\n",
       "\n",
       "    .dataframe tbody tr th {\n",
       "        vertical-align: top;\n",
       "    }\n",
       "\n",
       "    .dataframe thead th {\n",
       "        text-align: right;\n",
       "    }\n",
       "</style>\n",
       "<table border=\"1\" class=\"dataframe\">\n",
       "  <thead>\n",
       "    <tr style=\"text-align: right;\">\n",
       "      <th></th>\n",
       "      <th>count</th>\n",
       "      <th>mean</th>\n",
       "      <th>std</th>\n",
       "      <th>min</th>\n",
       "      <th>25%</th>\n",
       "      <th>50%</th>\n",
       "      <th>75%</th>\n",
       "      <th>max</th>\n",
       "    </tr>\n",
       "    <tr>\n",
       "      <th>usertype</th>\n",
       "      <th></th>\n",
       "      <th></th>\n",
       "      <th></th>\n",
       "      <th></th>\n",
       "      <th></th>\n",
       "      <th></th>\n",
       "      <th></th>\n",
       "      <th></th>\n",
       "    </tr>\n",
       "  </thead>\n",
       "  <tbody>\n",
       "    <tr>\n",
       "      <th>Customer</th>\n",
       "      <td>240319.0</td>\n",
       "      <td>1753.233523</td>\n",
       "      <td>12794.272516</td>\n",
       "      <td>61.0</td>\n",
       "      <td>716.0</td>\n",
       "      <td>1149.0</td>\n",
       "      <td>1621.0</td>\n",
       "      <td>3876479.0</td>\n",
       "    </tr>\n",
       "    <tr>\n",
       "      <th>Subscriber</th>\n",
       "      <td>337384.0</td>\n",
       "      <td>1101.423426</td>\n",
       "      <td>4773.600126</td>\n",
       "      <td>61.0</td>\n",
       "      <td>434.0</td>\n",
       "      <td>705.0</td>\n",
       "      <td>1160.0</td>\n",
       "      <td>565786.0</td>\n",
       "    </tr>\n",
       "  </tbody>\n",
       "</table>\n",
       "</div>"
      ],
      "text/plain": [
       "               count         mean           std   min    25%     50%     75%  \\\n",
       "usertype                                                                       \n",
       "Customer    240319.0  1753.233523  12794.272516  61.0  716.0  1149.0  1621.0   \n",
       "Subscriber  337384.0  1101.423426   4773.600126  61.0  434.0   705.0  1160.0   \n",
       "\n",
       "                  max  \n",
       "usertype               \n",
       "Customer    3876479.0  \n",
       "Subscriber   565786.0  "
      ]
     },
     "execution_count": 426,
     "metadata": {},
     "output_type": "execute_result"
    }
   ],
   "source": [
    "#check overview of trip duration for each usertype\n",
    "citi_data.groupby('usertype')['tripduration'].describe()"
   ]
  },
  {
   "cell_type": "code",
   "execution_count": 428,
   "metadata": {},
   "outputs": [
    {
     "data": {
      "text/plain": [
       "(568317, 13)"
      ]
     },
     "execution_count": 428,
     "metadata": {},
     "output_type": "execute_result"
    }
   ],
   "source": [
    "#drop values that are less than 2 minutes and where the start and end stations are the same (defective bike)\n",
    "trip_data = citi_data.loc[~(citi_data['start station id'] == citi_data['end station id']) & ~(citi_data['tripduration'] < 120)]\n",
    "#drop values that are greater than 1.5 hrs (5400s), which is 45 minutes longer than the limit for a single ride\n",
    "trip_data = citi_data.drop(citi_data.index[(citi_data['tripduration'] > 5400)])\n",
    "trip_data.shape"
   ]
  },
  {
   "cell_type": "code",
   "execution_count": 429,
   "metadata": {},
   "outputs": [
    {
     "data": {
      "text/html": [
       "<div>\n",
       "<style scoped>\n",
       "    .dataframe tbody tr th:only-of-type {\n",
       "        vertical-align: middle;\n",
       "    }\n",
       "\n",
       "    .dataframe tbody tr th {\n",
       "        vertical-align: top;\n",
       "    }\n",
       "\n",
       "    .dataframe thead th {\n",
       "        text-align: right;\n",
       "    }\n",
       "</style>\n",
       "<table border=\"1\" class=\"dataframe\">\n",
       "  <thead>\n",
       "    <tr style=\"text-align: right;\">\n",
       "      <th></th>\n",
       "      <th>usertype</th>\n",
       "      <th>Average_trip_time</th>\n",
       "    </tr>\n",
       "  </thead>\n",
       "  <tbody>\n",
       "    <tr>\n",
       "      <th>0</th>\n",
       "      <td>Customer</td>\n",
       "      <td>20.80</td>\n",
       "    </tr>\n",
       "    <tr>\n",
       "      <th>1</th>\n",
       "      <td>Subscriber</td>\n",
       "      <td>14.41</td>\n",
       "    </tr>\n",
       "  </tbody>\n",
       "</table>\n",
       "</div>"
      ],
      "text/plain": [
       "     usertype  Average_trip_time\n",
       "0    Customer              20.80\n",
       "1  Subscriber              14.41"
      ]
     },
     "execution_count": 429,
     "metadata": {},
     "output_type": "execute_result"
    }
   ],
   "source": [
    "#create temp df to map average trip time for each user type \n",
    "trip_duration = pd.DataFrame()\n",
    "trip_duration['Average_trip_time'] = round(trip_data.groupby('usertype')['tripduration'].mean()/60, 1)\n",
    "trip_duration.reset_index()"
   ]
  },
  {
   "cell_type": "code",
   "execution_count": 455,
   "metadata": {},
   "outputs": [
    {
     "data": {
      "text/plain": [
       "Text(0.5, 1.0, 'Avg Trip duration by User Type (min)')"
      ]
     },
     "execution_count": 455,
     "metadata": {},
     "output_type": "execute_result"
    },
    {
     "data": {
      "image/png": "[encoded data removed]",
      "text/plain": [
       "<Figure size 432x288 with 1 Axes>"
      ]
     },
     "metadata": {
      "needs_background": "light"
     },
     "output_type": "display_data"
    }
   ],
   "source": [
    "trip_duration_vis = sns.barplot(x=trip_duration.index, y='Average_trip_time', data=trip_duration, palette='Set2')\n",
    "trip_duration_vis.set_title('Avg Trip duration by User Type (min)')\n"
   ]
  },
  {
   "cell_type": "markdown",
   "metadata": {},
   "source": [
    "## Question 2: which stations should increase bikes?\n",
    "\n",
    "**Method**\n",
    "- Look at number of trips started at each station by counting 'starttime' and grouping by station ID\n",
    "- convert starttime to datetime object\n",
    "- set all dates for starttime to the same date (since we are interested in timestamp and not dates)\n",
    "\n",
    "**Findings**\n",
    "- The busiest hours are between 5pm and 7pm, and the stations with the most trips started during those hours are **E 17 St & Broadway**, **Broadway & W 24 St**, and **W 20 St & 11 Ave**\n",
    "\n",
    "**Bike order suggestion**\n",
    "- Because there are significantly more trips occurring at the stations listed above from 5pm-7pm, I recommend that Citibike increases available bikes in those areas during evening rush hour. "
   ]
  },
  {
   "cell_type": "code",
   "execution_count": 433,
   "metadata": {},
   "outputs": [],
   "source": [
    "import datetime\n",
    "citi_data.starttime = pd.to_datetime(citi_data.starttime, infer_datetime_format=True)\n",
    "citi_data.stoptime = pd.to_datetime(citi_data.stoptime, infer_datetime_format=True)"
   ]
  },
  {
   "cell_type": "code",
   "execution_count": 434,
   "metadata": {},
   "outputs": [],
   "source": [
    "#set all of the dates to 1/1/2022, since we are only interested in time of day \n",
    "citi_data.starttime = citi_data.starttime.apply(lambda dt: dt.replace(year=2022, month=1, day=1))"
   ]
  },
  {
   "cell_type": "code",
   "execution_count": 437,
   "metadata": {},
   "outputs": [
    {
     "name": "stdout",
     "output_type": "stream",
     "text": [
      "<class 'pandas.core.frame.DataFrame'>\n",
      "RangeIndex: 577703 entries, 0 to 577702\n",
      "Data columns (total 13 columns):\n",
      " #   Column                   Non-Null Count   Dtype         \n",
      "---  ------                   --------------   -----         \n",
      " 0   tripduration             577703 non-null  int64         \n",
      " 1   starttime                577703 non-null  datetime64[ns]\n",
      " 2   stoptime                 577703 non-null  datetime64[ns]\n",
      " 3   start station id         577703 non-null  int64         \n",
      " 4   start station name       577703 non-null  object        \n",
      " 5   start station latitude   577703 non-null  float64       \n",
      " 6   start station longitude  577703 non-null  float64       \n",
      " 7   end station id           559644 non-null  float64       \n",
      " 8   end station name         559644 non-null  object        \n",
      " 9   end station latitude     559644 non-null  float64       \n",
      " 10  end station longitude    559644 non-null  float64       \n",
      " 11  bikeid                   577703 non-null  int64         \n",
      " 12  usertype                 577703 non-null  object        \n",
      "dtypes: datetime64[ns](2), float64(5), int64(3), object(3)\n",
      "memory usage: 57.3+ MB\n"
     ]
    }
   ],
   "source": [
    "citi_data.info()"
   ]
  },
  {
   "cell_type": "code",
   "execution_count": 438,
   "metadata": {},
   "outputs": [
    {
     "data": {
      "text/plain": [
       "starttime            start station id\n",
       "2022-01-01 18:00:00  497                 655\n",
       "2022-01-01 17:00:00  444                 581\n",
       "2022-01-01 18:00:00  459                 576\n",
       "2022-01-01 17:00:00  459                 567\n",
       "2022-01-01 18:00:00  444                 542\n",
       "2022-01-01 17:00:00  497                 538\n",
       "2022-01-01 18:00:00  457                 520\n",
       "                     426                 487\n",
       "2022-01-01 19:00:00  497                 482\n",
       "2022-01-01 18:00:00  285                 480\n",
       "Name: start station id, dtype: int64"
      ]
     },
     "execution_count": 438,
     "metadata": {},
     "output_type": "execute_result"
    }
   ],
   "source": [
    "#find the count for each station at each of the 10 busiest hours\n",
    "time_of_day = citi_data.resample('H', on='starttime')['start station id'].value_counts().sort_values(ascending=False)\n",
    "time_of_day[:10]"
   ]
  }
 ],
 "metadata": {
  "interpreter": {
   "hash": "1a4501d3d562f0b28c90d26f5c059afe9f5aa811b3cdc03e17a4608c7433b5d2"
  },
  "kernelspec": {
   "display_name": "Python 3.9.7 64-bit",
   "language": "python",
   "name": "python3"
  },
  "language_info": {
   "codemirror_mode": {
    "name": "ipython",
    "version": 3
   },
   "file_extension": ".py",
   "mimetype": "text/x-python",
   "name": "python",
   "nbconvert_exporter": "python",
   "pygments_lexer": "ipython3",
   "version": "3.9.7"
  },
  "orig_nbformat": 4
 },
 "nbformat": 4,
 "nbformat_minor": 2
}
